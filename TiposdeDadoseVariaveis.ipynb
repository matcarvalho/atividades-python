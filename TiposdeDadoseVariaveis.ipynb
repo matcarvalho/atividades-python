{
  "nbformat": 4,
  "nbformat_minor": 0,
  "metadata": {
    "colab": {
      "name": "TiposdeDadoseVariaveis.ipynb",
      "private_outputs": true,
      "provenance": [],
      "collapsed_sections": [],
      "include_colab_link": true
    },
    "kernelspec": {
      "name": "python3",
      "display_name": "Python 3"
    },
    "accelerator": "GPU"
  },
  "cells": [
    {
      "cell_type": "markdown",
      "metadata": {
        "id": "view-in-github",
        "colab_type": "text"
      },
      "source": [
        "<a href=\"https://colab.research.google.com/github/matcarvalho/atividades-python/blob/main/TiposdeDadoseVariaveis.ipynb\" target=\"_parent\"><img src=\"https://colab.research.google.com/assets/colab-badge.svg\" alt=\"Open In Colab\"/></a>"
      ]
    },
    {
      "cell_type": "markdown",
      "metadata": {
        "id": "tnTiGqQOWih2"
      },
      "source": [
        "# **Variáveis**\n",
        "\n",
        "---\n",
        "<br>Utilize o símbolo \" = \" para declarar variáveis em Python"
      ]
    },
    {
      "cell_type": "markdown",
      "metadata": {
        "id": "wQyf6BjWUzAs"
      },
      "source": [
        "# **Tipos de Dados**\n",
        "\n",
        "---"
      ]
    },
    {
      "cell_type": "code",
      "metadata": {
        "id": "grV-TUhIUpym"
      },
      "source": [
        "# INTEIRO\n",
        "a = 1\n",
        "print(type(a))"
      ],
      "execution_count": null,
      "outputs": []
    },
    {
      "cell_type": "code",
      "metadata": {
        "id": "09IdrzFGVCSX"
      },
      "source": [
        "# FLOATING\n",
        "b = 3.14\n",
        "print(type(b))"
      ],
      "execution_count": null,
      "outputs": []
    },
    {
      "cell_type": "code",
      "metadata": {
        "id": "DkLGTcovVKfT"
      },
      "source": [
        "# STRING\n",
        "c = \"Python\"\n",
        "print(type(c))"
      ],
      "execution_count": null,
      "outputs": []
    },
    {
      "cell_type": "code",
      "metadata": {
        "id": "vKjekNh2VSC1"
      },
      "source": [
        "# BOOLEANOS\n",
        "d = True\n",
        "print(type(d))"
      ],
      "execution_count": null,
      "outputs": []
    },
    {
      "cell_type": "markdown",
      "metadata": {
        "id": "AJufuqlPVZTP"
      },
      "source": [
        "## **Convertendo os tipos**\n",
        "\n",
        "---"
      ]
    },
    {
      "cell_type": "code",
      "metadata": {
        "id": "CAgbi9NmVXS_"
      },
      "source": [
        "e = int(b)\n",
        "print(e, type(e))"
      ],
      "execution_count": null,
      "outputs": []
    },
    {
      "cell_type": "code",
      "metadata": {
        "id": "m95m5DuLVwIn"
      },
      "source": [
        "f = float(a)\n",
        "print(f, type(f))"
      ],
      "execution_count": null,
      "outputs": []
    },
    {
      "cell_type": "code",
      "metadata": {
        "id": "ZDIeegUXV22S"
      },
      "source": [
        "g = str(a)\n",
        "print(g, type(g))"
      ],
      "execution_count": null,
      "outputs": []
    },
    {
      "cell_type": "markdown",
      "metadata": {
        "id": "DHdhVNFEWAF0"
      },
      "source": [
        "## **Comentários**\n",
        "\n",
        "---"
      ]
    },
    {
      "cell_type": "code",
      "metadata": {
        "id": "E4v3YfI2WDaC"
      },
      "source": [
        "# Após hashtag, todo conteúdo da linha torna-se desabilitado para execução;"
      ],
      "execution_count": null,
      "outputs": []
    },
    {
      "cell_type": "code",
      "metadata": {
        "id": "PcJXn1PgWQZu"
      },
      "source": [
        "'''\n",
        "Caso prefira mais espaço para comentar, \n",
        "utilize 3 aspas, \n",
        "tendo todo o conteúdo entre as aspas comentado e\n",
        "não executado pela máquina;\n",
        "'''"
      ],
      "execution_count": null,
      "outputs": []
    },
    {
      "cell_type": "markdown",
      "metadata": {
        "id": "xIEmK2y0Jz8p"
      },
      "source": [
        "# **>>> Exercícios**\n",
        "\n",
        "---\n",
        "\n",
        "1.   Crie uma variável que contenha o ano de seu nascimento(int);\n",
        "2.   Crie uma nova variável com a frase \"Nasci em \"(str);\n",
        "3.   Crie uma terceira variável que receba a soma destas 2 variáveis e printe como saida a frase completa(str);\n",
        "<br><br>**dica:** pode ser necessário converter o tipo das variáveis.\n",
        "\n"
      ]
    },
    {
      "cell_type": "code",
      "metadata": {
        "id": "ugwOXtHhKnQF"
      },
      "source": [
        "# Insira seu código aqui\n",
        "ano = 1995\n",
        "print(ano, type(ano))\n",
        "texto = \"Nasci em\"\n",
        "print(texto, type(texto))\n",
        "print(texto,ano)\n",
        "soma = (texto +\" \"+str(ano))\n",
        "print(soma)"
      ],
      "execution_count": null,
      "outputs": []
    },
    {
      "cell_type": "markdown",
      "metadata": {
        "id": "xsniShkDKpMy"
      },
      "source": [
        "## **>>> Solução**\n",
        "\n",
        "---\n",
        "\n",
        "Clique abaixo para visualizar a solução"
      ]
    },
    {
      "cell_type": "code",
      "metadata": {
        "id": "6DlOTnwkK7uq"
      },
      "source": [
        "ano = 1992\n",
        "frase = \"Nasci em \"\n",
        "x = (frase+str(ano))\n",
        "print(x)"
      ],
      "execution_count": null,
      "outputs": []
    }
  ]
}