{
  "nbformat": 4,
  "nbformat_minor": 0,
  "metadata": {
    "colab": {
      "name": "Operadores.ipynb",
      "provenance": [],
      "collapsed_sections": [],
      "include_colab_link": true
    },
    "kernelspec": {
      "name": "python3",
      "display_name": "Python 3"
    },
    "accelerator": "GPU"
  },
  "cells": [
    {
      "cell_type": "markdown",
      "metadata": {
        "id": "view-in-github",
        "colab_type": "text"
      },
      "source": [
        "<a href=\"https://colab.research.google.com/github/matcarvalho/atividades-python/blob/main/Operadores.ipynb\" target=\"_parent\"><img src=\"https://colab.research.google.com/assets/colab-badge.svg\" alt=\"Open In Colab\"/></a>"
      ]
    },
    {
      "cell_type": "markdown",
      "metadata": {
        "id": "1aMFiRCKgaXU"
      },
      "source": [
        "# **Operadores Aritméticos**\n",
        "\n",
        "---\n",
        "\n",
        "![alt text](http://uploaddeimagens.com.br/images/002/157/495/full/novo.jpg?1561548911)"
      ]
    },
    {
      "cell_type": "code",
      "metadata": {
        "id": "F_FhFqcrF17b"
      },
      "source": [
        "# SOMA NÚMEROS\n",
        "\n",
        "print(5+1)"
      ],
      "execution_count": null,
      "outputs": []
    },
    {
      "cell_type": "code",
      "metadata": {
        "id": "cooSXrd-ZcJ5"
      },
      "source": [
        "# SOMA STRINGS\n",
        "\n",
        "print(\"chat\"+\"bot\")"
      ],
      "execution_count": null,
      "outputs": []
    },
    {
      "cell_type": "code",
      "metadata": {
        "id": "4CW8_SbQZcS9"
      },
      "source": [
        "# SUBTRAÇÃO\n",
        "\n",
        "print(150-50)"
      ],
      "execution_count": null,
      "outputs": []
    },
    {
      "cell_type": "code",
      "metadata": {
        "id": "XVgaRWtFZcam"
      },
      "source": [
        "# MULTIPLICAÇÃO\n",
        "\n",
        "print(5*3)"
      ],
      "execution_count": null,
      "outputs": []
    },
    {
      "cell_type": "code",
      "metadata": {
        "id": "2-ApCdN7ZciJ"
      },
      "source": [
        "# DIVISÃO\n",
        "\n",
        "print(100/3)"
      ],
      "execution_count": null,
      "outputs": []
    },
    {
      "cell_type": "code",
      "metadata": {
        "id": "r9TDnllYZcoR"
      },
      "source": [
        "# EXPONENCIAÇÃO\n",
        "\n",
        "print(2**3)"
      ],
      "execution_count": null,
      "outputs": []
    },
    {
      "cell_type": "code",
      "metadata": {
        "id": "7h8HOrPdZcvf"
      },
      "source": [
        "# PARTE INTEIRA DA DIVISÃO\n",
        "\n",
        "print(100//3)"
      ],
      "execution_count": null,
      "outputs": []
    },
    {
      "cell_type": "code",
      "metadata": {
        "id": "f3icQP7hZc3o"
      },
      "source": [
        "# RESTO DA DIVISÃO\n",
        "\n",
        "print(100%3)"
      ],
      "execution_count": null,
      "outputs": []
    },
    {
      "cell_type": "markdown",
      "metadata": {
        "id": "wn5kvuiEMjHr"
      },
      "source": [
        "# **Regras de Precedência(PEMDAS)** \n",
        "<br>**P**: de parênteses! tem a mais alta precedência e por isto, em casos onde houverem parênteses, estes cálculos serão realizados primeiro.\n",
        "<br>2 * (3+1) = 8\n",
        "<br>2 * 3 + 1 = 7\n",
        "<br><br>**E**: de exponenciação! possui a segunda precedência mais alta.\n",
        "<br>2 ** 1+1 = 3\n",
        "<br><br>**MDAS**: Multiplicação e Divisão são a terceira precedência mais alta, restando a adição e subtração em ultima posição na ordem de precedência.\n",
        "<br>2 * 3-1 = 5"
      ]
    },
    {
      "cell_type": "markdown",
      "metadata": {
        "id": "pUGCKvG6jIjo"
      },
      "source": [
        "# **Operadores Lógicos**\n",
        "\n",
        "---\n",
        "\n",
        "![alt text](http://uploaddeimagens.com.br/images/002/157/489/original/operadores-logicos.jpg?1561548629)"
      ]
    },
    {
      "cell_type": "code",
      "metadata": {
        "id": "eiKaiZN7fdV2"
      },
      "source": [
        "# MAIOR >\n",
        "print(10 > 0)"
      ],
      "execution_count": null,
      "outputs": []
    },
    {
      "cell_type": "code",
      "metadata": {
        "id": "tD0I9RAtav3U"
      },
      "source": [
        "# MENOR <\n",
        "print(0 < 10)"
      ],
      "execution_count": null,
      "outputs": []
    },
    {
      "cell_type": "code",
      "metadata": {
        "id": "LI4sioN2awBD"
      },
      "source": [
        "# MAIOR OU IGUAL >=\n",
        "print(10 >= 10)"
      ],
      "execution_count": null,
      "outputs": []
    },
    {
      "cell_type": "code",
      "metadata": {
        "id": "UPpqU_nmawKJ"
      },
      "source": [
        "# MENOR OU IGUAL <=\n",
        "print(10 <= 20)"
      ],
      "execution_count": null,
      "outputs": []
    },
    {
      "cell_type": "code",
      "metadata": {
        "id": "qbKzfb_2awT3"
      },
      "source": [
        "# IGUAL ==\n",
        "print(10 == 10)"
      ],
      "execution_count": null,
      "outputs": []
    },
    {
      "cell_type": "code",
      "metadata": {
        "id": "WIz9HtKkawc9"
      },
      "source": [
        "# DIFERENTE !=\n",
        "print(10 != \"10\")"
      ],
      "execution_count": null,
      "outputs": []
    },
    {
      "cell_type": "markdown",
      "metadata": {
        "id": "u_VX05mencE6"
      },
      "source": [
        "# **Operador in**"
      ]
    },
    {
      "cell_type": "code",
      "metadata": {
        "id": "4m6kUWxnnHUn"
      },
      "source": [
        "# Operador IN verifica se o elemento está contido na estrutura citada\n",
        "x = \"python\"\n",
        "print(\"p\" in x)"
      ],
      "execution_count": null,
      "outputs": []
    },
    {
      "cell_type": "markdown",
      "metadata": {
        "id": "v-5cb-wikmAX"
      },
      "source": [
        "## **>>> Exercícios**\n",
        "\n",
        "\n",
        "1.   Crie um algoritmo que solicite do usuário 2 números e apresente a soma de ambos (fácil)\n",
        "2.   Crie um algoritmo que solicite do usuário 2 números e apresente o intervalo númerico entre eles (médio)\n",
        "3.   Crie um algoritmo que solicite do usuário 2 números e apresente o mínimo múltiplo comum(MMC) entre eles (difícil)\n",
        "\n",
        "\n"
      ]
    },
    {
      "cell_type": "code",
      "metadata": {
        "id": "W4W0NB_AvwOU"
      },
      "source": [
        "# Exercício 1\n",
        "print(\"------------------------\")\n",
        "print(\"Olá, qual é o seu nome?\")\n",
        "print(\"------------------------\")\n",
        "nome = input()\n",
        "print(f\"{nome}, informe o primeiro valor:\")\n",
        "valor1 = input()\n",
        "print(f\"{nome}, informe o segundo valor:\")\n",
        "valor2 = input()\n",
        "print(f\"{nome}, o valor da soma foi: {int(valor1) + int(valor2)}\")"
      ],
      "execution_count": null,
      "outputs": []
    },
    {
      "cell_type": "code",
      "metadata": {
        "id": "_4Td_bISwjO9",
        "colab": {
          "base_uri": "https://localhost:8080/"
        },
        "outputId": "df1eb504-ccbc-444d-9556-ce6e9d3c23b5"
      },
      "source": [
        "# Exercício 2\n",
        "print(\"Olá, sou seu assistente pessoal. Posso lhe ajudar com intervalos de valores\")\n",
        "print(\"Para eu lhe ajudar é bem simples, primeiro informe o menor valor e depois informe o maior valor\")\n",
        "print(\"Vamos começar?\")\n",
        "print(\"----------------\")\n",
        "print(\"Informe o menor valor:\")\n",
        "menor = input()\n",
        "menor = int(menor)\n",
        "print(\"-----------------\")\n",
        "print(\"Informe o maior valor\")\n",
        "maior = input()\n",
        "maior = int(maior)\n",
        "print(\"-----------------\")\n",
        "\n",
        "# Se a lista for do maior para o menor executar esse código\n",
        "if maior < menor:\n",
        "  print(\"Você digitou os valores invertidos, mas consigo consertar isso para você!\")\n",
        "  print(\"Intervalo de valores:\")\n",
        "\n",
        "#Matriz invertida\n",
        "#for maior in range(menor-1,maior,-1):\n",
        " #   print(maior)\n",
        "\n",
        "#Matriz normal\n",
        "  while maior < menor-1:\n",
        "    maior += 1\n",
        "    print(maior)\n",
        "\n",
        "# Se a lista for do menor para o maior executar esse código    \n",
        "elif menor < maior:\n",
        "  print(\"Intervalo de valores entre:\")\n",
        "  \n",
        "  while menor < maior-1:\n",
        "    menor += 1\n",
        "    print(menor)\n",
        "print(\"Fim!\")"
      ],
      "execution_count": 4,
      "outputs": [
        {
          "output_type": "stream",
          "text": [
            "Olá, sou seu assistente pessoal. Posso lhe ajudar com intervalos de valores\n",
            "Para eu lhe ajudar é bem simples, primeiro informe o menor valor e depois informe o maior valor\n",
            "Vamos começar?\n",
            "----------------\n",
            "Informe o menor valor:\n",
            "5\n",
            "-----------------\n",
            "Informe o maior valor\n",
            "10\n",
            "-----------------\n",
            "Intervalo de valores entre:\n",
            "6\n",
            "7\n",
            "8\n",
            "9\n",
            "Fim!\n"
          ],
          "name": "stdout"
        }
      ]
    },
    {
      "cell_type": "code",
      "metadata": {
        "id": "lqDcKJeQGDn_",
        "colab": {
          "base_uri": "https://localhost:8080/"
        },
        "outputId": "a96eba48-9453-4728-a943-a210f79dc8ac"
      },
      "source": [
        "# Exercício 3\n",
        "num1 = int(input(\"Digite um número inteiro:\"))\n",
        "num2 = int(input(\"Digite outro número inteiro:\"))\n",
        "\n",
        "#Verifica qual é o maior valor\n",
        "if num1 > num2:\n",
        "    maior = num1\n",
        "else:\n",
        "    maior = num2\n",
        "\n",
        "#Informa o MMC, enquanto o resto da divisão do número 1 e número 2 for diferente de zero o while é verdadeiro9\n",
        "while True:\n",
        "    if maior % num1 == 0 and maior % num2 == 0:\n",
        "        print(maior)\n",
        "        break\n",
        "    else:\n",
        "        maior += 1\n",
        "       "
      ],
      "execution_count": 10,
      "outputs": [
        {
          "output_type": "stream",
          "text": [
            "Digite um número inteiro:5\n",
            "Digite outro número inteiro:6\n",
            "30\n"
          ],
          "name": "stdout"
        }
      ]
    }
  ]
}